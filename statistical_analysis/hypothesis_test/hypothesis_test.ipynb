{
 "cells": [
  {
   "cell_type": "markdown",
   "id": "3ab0c1c4-cc65-491b-af86-5e4eeff22f3b",
   "metadata": {},
   "source": [
    "# خواندن داده ها"
   ]
  },
  {
   "cell_type": "code",
   "execution_count": 1,
   "id": "d081d0ae-99a9-4305-8aa3-d6d21ad4b053",
   "metadata": {},
   "outputs": [
    {
     "name": "stderr",
     "output_type": "stream",
     "text": [
      "C:\\Users\\lenovo\\AppData\\Local\\Temp\\ipykernel_18344\\1439389738.py:2: DtypeWarning: Columns (11,27,29,53) have mixed types. Specify dtype option on import or set low_memory=False.\n",
      "  df = pd.read_csv('/ds/Divar_real_state.csv')\n"
     ]
    }
   ],
   "source": [
    "import pandas as pd\n",
    "df = pd.read_csv('Divar.csv')\n",
    "cc = pd.read_csv('iran_city_classification.csv')"
   ]
  },
  {
   "cell_type": "markdown",
   "id": "18a4589d-f210-4b07-aa5b-ae5ac2747d59",
   "metadata": {},
   "source": [
    "# بارگذاری ماژول ها "
   ]
  },
  {
   "cell_type": "code",
   "execution_count": 2,
   "id": "412e035d-77af-4ed2-8cba-2d5b1e12878b",
   "metadata": {},
   "outputs": [],
   "source": [
    "import numpy as np\n",
    "from scipy.stats import ttest_ind, mannwhitneyu, levene, shapiro\n",
    "import independent_groups_continues_dependent as i"
   ]
  },
  {
   "cell_type": "code",
   "execution_count": 3,
   "id": "a2ebe57e-b8c7-494e-9288-32a1885c9a8d",
   "metadata": {},
   "outputs": [],
   "source": [
    "df.drop('Unnamed: 0', axis=1, inplace=True)"
   ]
  },
  {
   "cell_type": "code",
   "execution_count": 4,
   "id": "615430f2-8dfb-449a-a4a1-8a7e708c4710",
   "metadata": {},
   "outputs": [],
   "source": [
    "cc.columns = [c.replace('\\u200c', ' ') for c in cc.columns]\n",
    "cc['دسته بندی'] = cc['دسته بندی'].str.replace('\\u200c', ' ', regex=False)"
   ]
  },
  {
   "cell_type": "markdown",
   "id": "88205a2b-2b91-4b37-a38f-c6e360b0143a",
   "metadata": {},
   "source": [
    "## سوال 1: مقایسه میانگین مساحت مساکن در کلان شهر ها و در شهرهای کوچک/روستا ها"
   ]
  },
  {
   "cell_type": "code",
   "execution_count": 6,
   "id": "7c930809-4061-44d2-a3f0-682c0ee39b79",
   "metadata": {},
   "outputs": [
    {
     "name": "stdout",
     "output_type": "stream",
     "text": [
      "=== Hypotheses ===\n",
      "H0: Mean(Group1) = Mean(Group2)\n",
      "H1: Mean(Group1) != Mean(Group2) (alternative='two-sided')\n",
      "\n",
      "Sample sizes: Group1=455121, Group2=525273\n",
      "\n",
      "Large sample sizes → use t-test via CLT, skip Shapiro-Wilk\n",
      "\n",
      "=== Welch's t-test Result ===\n",
      "t-statistic: -14.1441, p-value: 0.0000\n",
      "Decision: Reject H0\n",
      "\n",
      "==================================================\n",
      "\n"
     ]
    }
   ],
   "source": [
    "df_1 = df.copy()\n",
    "df_1.rename(columns={'city_slug': 'نام شهر'}, inplace=True)\n",
    "df_1 = df_1.dropna(subset=['building_size'])\n",
    "df_1 = df_1.merge(cc, on='نام شهر', how='left')\n",
    "\n",
    "metro = df_1[df_1['دسته بندی'] == 'کلان شهر']\n",
    "small = df_1[df_1['دسته بندی'] != 'کلان شهر']\n",
    "\n",
    "#two groups are independent and have ordinal or continues dependent value\n",
    "#so we use python file for this situation called: independent_groups_continues_dependent.py\n",
    "\n",
    "col = 'building_size'\n",
    "\n",
    "i.compare_two_groups(metro[col], small[col])"
   ]
  },
  {
   "cell_type": "markdown",
   "id": "4ad7540b-3e34-451b-8f49-9f77055e74cc",
   "metadata": {},
   "source": [
    "## سوال 2: مقیسه میانگین مساحت خانه های قدیمی و جدید"
   ]
  },
  {
   "cell_type": "markdown",
   "id": "2261f056-a8e6-4d06-a35e-a796a88223c8",
   "metadata": {},
   "source": [
    "### آماده سازی داده"
   ]
  },
  {
   "cell_type": "code",
   "execution_count": 7,
   "id": "565e3f14-7529-4b2d-a964-62739366e419",
   "metadata": {},
   "outputs": [
    {
     "name": "stderr",
     "output_type": "stream",
     "text": [
      "C:\\Users\\lenovo\\AppData\\Local\\Temp\\ipykernel_18344\\31959390.py:21: FutureWarning: A value is trying to be set on a copy of a DataFrame or Series through chained assignment using an inplace method.\n",
      "The behavior will change in pandas 3.0. This inplace method will never work because the intermediate object on which we are setting values always behaves as a copy.\n",
      "\n",
      "For example, when doing 'df[col].method(value, inplace=True)', try using 'df.method({col: value}, inplace=True)' or df[col] = df[col].method(value) instead, to perform the operation inplace on the original object.\n",
      "\n",
      "\n",
      "  df_2['land_size'].fillna(df_2['building_size'], inplace=True)\n"
     ]
    }
   ],
   "source": [
    "df_2 = df[df['cat3_slug'].isin(['villa', 'apartment-sell', 'apartment-rent', 'plot-old', 'house-villa-sell', 'house-villa-rent', 'suite-apartment'])]\n",
    "df_2 = df_2.dropna(subset=['construction_year'])\n",
    "\n",
    "df_2['construction_year'] = (\n",
    "    df_2['construction_year']\n",
    "    .replace({'قبل از ۱۳۷۰': '1369'})\n",
    ")\n",
    "\n",
    "\n",
    "def persian_to_english_number(s):\n",
    "    if pd.isna(s):  # handle NaNs\n",
    "        return s\n",
    "    persian_digits = '۰۱۲۳۴۵۶۷۸۹'\n",
    "    english_digits = '0123456789'\n",
    "    for p, e in zip(persian_digits, english_digits):\n",
    "        s = s.replace(p, e)\n",
    "    return s\n",
    "    \n",
    "    \n",
    "df_2['construction_year'] = df_2['construction_year'].apply(persian_to_english_number)\n",
    "df_2['land_size'].fillna(df_2['building_size'], inplace=True)\n",
    "df_2 = df_2.dropna(subset=['land_size'])\n",
    "old = df_2[df_2['construction_year'].astype(int) < 1396]\n",
    "new = df_2[df_2['construction_year'].astype(int) >= 1396]"
   ]
  },
  {
   "cell_type": "code",
   "execution_count": 8,
   "id": "b61305b2-4538-4f24-bcbf-b14668f13923",
   "metadata": {},
   "outputs": [
    {
     "name": "stdout",
     "output_type": "stream",
     "text": [
      "=== Hypotheses ===\n",
      "H0: Mean(Group1) = Mean(Group2)\n",
      "H1: Mean(Group1) != Mean(Group2) (alternative='two-sided')\n",
      "\n",
      "Sample sizes: Group1=349160, Group2=352492\n",
      "\n",
      "Large sample sizes → use t-test via CLT, skip Shapiro-Wilk\n",
      "\n",
      "=== Welch's t-test Result ===\n",
      "t-statistic: 3.2179, p-value: 0.0013\n",
      "Decision: Reject H0\n",
      "\n",
      "==================================================\n",
      "\n"
     ]
    }
   ],
   "source": [
    "col = 'land_size'\n",
    "i.compare_two_groups(new[col], old[col])"
   ]
  },
  {
   "cell_type": "markdown",
   "id": "4aaf931e-9885-4feb-8b3a-c0d4ae96cf46",
   "metadata": {},
   "source": [
    "## سوال 3: مقایسه میانگین قیمت در املاک تجاری دارای سند تجاری و املاک تجاری بدون سند تجاری"
   ]
  },
  {
   "cell_type": "markdown",
   "id": "5afa6054-06a6-49bc-b219-eafc92937ef7",
   "metadata": {},
   "source": [
    "### آماده سازی داده"
   ]
  },
  {
   "cell_type": "code",
   "execution_count": null,
   "id": "87b2e3e1-3514-4b21-9b37-50dfeb366683",
   "metadata": {},
   "outputs": [],
   "source": [
    "df_3 = df[df['cat2_slug'] == 'commercial-sell']\n",
    "df_3.dropna(subset=['has_business_deed', 'price_value'], inplace=True)\n",
    "hbd = df_3[df_3['has_business_deed'] == True] #has business deed\n",
    "dhbd = df_3[df_3['has_business_deed'] == False] #does'nt have business deed"
   ]
  },
  {
   "cell_type": "code",
   "execution_count": null,
   "id": "d7093975-7c80-43b4-8b46-33ce44366f52",
   "metadata": {},
   "outputs": [],
   "source": [
    "col = 'price_value'\n",
    "i.compare_two_groups(hbd[col], dhbd[col])"
   ]
  },
  {
   "cell_type": "markdown",
   "id": "6c6a15fe-670f-4767-ab08-695e6a6294ec",
   "metadata": {},
   "source": [
    "##  سوال 4: مقایسه میانگین میزان تاثیر وجود امکانات لاکچری و غیر لاکچری"
   ]
  },
  {
   "cell_type": "code",
   "execution_count": 9,
   "id": "114ea7e8-446f-4eec-8158-3faf315da707",
   "metadata": {},
   "outputs": [
    {
     "name": "stdout",
     "output_type": "stream",
     "text": [
      "                    feature                                                                             property_types_with_True\n",
      "0                  has_pool                                                          [house-villa-sell, villa, house-villa-rent]\n",
      "1               has_jacuzzi                                                          [house-villa-sell, villa, house-villa-rent]\n",
      "2                 has_sauna                                                          [house-villa-sell, villa, house-villa-rent]\n",
      "3              has_barbecue                                                          [villa, house-villa-sell, house-villa-rent]\n",
      "4               has_balcony                       [apartment-sell, apartment-rent, house-villa-sell, house-villa-rent, plot-old]\n",
      "5              has_elevator                                           [apartment-sell, apartment-rent, office-rent, office-sell]\n",
      "6             has_warehouse  [apartment-sell, apartment-rent, house-villa-sell, house-villa-rent, office-rent, office-sell, p...\n",
      "7               has_parking  [apartment-sell, apartment-rent, office-rent, house-villa-sell, house-villa-rent, office-sell, p...\n",
      "8                 has_water                                          [house-villa-sell, villa, house-villa-rent, apartment-sell]\n",
      "9   has_warm_water_provider                                                                                                   []\n",
      "10          has_electricity                                          [house-villa-sell, villa, house-villa-rent, apartment-sell]\n",
      "11                  has_gas                                          [house-villa-sell, villa, house-villa-rent, apartment-sell]\n",
      "12       has_heating_system                                                                                                   []\n",
      "13       has_cooling_system                                                                                                   []\n",
      "14             has_restroom                                                                                                   []\n",
      "15       has_security_guard                                                          [house-villa-sell, villa, house-villa-rent]\n"
     ]
    }
   ],
   "source": [
    "import pandas as pd\n",
    "\n",
    "# List of features\n",
    "features = [\n",
    "    'has_pool','has_jacuzzi','has_sauna','has_barbecue',\n",
    "    'has_balcony','has_elevator','has_warehouse','has_parking',\n",
    "    'has_water', 'has_warm_water_provider','has_electricity','has_gas','has_heating_system',\n",
    "    'has_cooling_system','has_restroom','has_security_guard'\n",
    "]\n",
    "\n",
    "\n",
    "# Normalize mixed feature columns to boolean/NA (reuse previous function)\n",
    "def normalize_feature(col):\n",
    "    return col.apply(lambda x: True if str(x).strip().lower() == 'true'\n",
    "                              else False if str(x).strip().lower() == 'false'\n",
    "                              else pd.NA)\n",
    "\n",
    "for f in features:\n",
    "    df[f] = normalize_feature(df[f])\n",
    "\n",
    "# Create a summary dictionary\n",
    "feature_presence = {}\n",
    "\n",
    "for feature in features:\n",
    "    # Get property types where at least one True exists\n",
    "    present_in = df[df[feature] == True]['cat3_slug'].unique().tolist()\n",
    "    feature_presence[feature] = present_in\n",
    "\n",
    "# Convert to DataFrame for nicer display\n",
    "feature_presence_df = pd.DataFrame(\n",
    "    list(feature_presence.items()), \n",
    "    columns=['feature', 'property_types_with_True']\n",
    ")\n",
    "\n",
    "# Display all rows\n",
    "pd.set_option('display.max_rows', None)\n",
    "print(feature_presence_df)\n",
    "\n",
    "# Define luxury features\n",
    "luxury_features = ['has_pool','has_barbecue','has_sauna','has_jacuzzi']\n",
    "non_luxury_features = [f for f in feature_presence_df['feature'] if f not in luxury_features]"
   ]
  },
  {
   "cell_type": "code",
   "execution_count": 12,
   "id": "620ea51c-659d-472a-825f-4aa1705c5e21",
   "metadata": {},
   "outputs": [],
   "source": [
    "feature_presence_df.to_csv('feature_presence.csv', index=False)"
   ]
  },
  {
   "cell_type": "markdown",
   "id": "bd31fdcd-de5c-4921-b6ab-6c578312d2cf",
   "metadata": {},
   "source": [
    "### house-villa-sell بررسی "
   ]
  },
  {
   "cell_type": "code",
   "execution_count": 10,
   "id": "7786c72a-7568-425e-9e32-350cc2bafd8a",
   "metadata": {},
   "outputs": [
    {
     "name": "stderr",
     "output_type": "stream",
     "text": [
      "C:\\Users\\lenovo\\AppData\\Local\\Temp\\ipykernel_18344\\2381951003.py:3: SettingWithCopyWarning: \n",
      "A value is trying to be set on a copy of a slice from a DataFrame\n",
      "\n",
      "See the caveats in the documentation: https://pandas.pydata.org/pandas-docs/stable/user_guide/indexing.html#returning-a-view-versus-a-copy\n",
      "  df_have_lux.dropna(subset='price_value', inplace=True)\n",
      "C:\\Users\\lenovo\\AppData\\Local\\Temp\\ipykernel_18344\\2381951003.py:5: SettingWithCopyWarning: \n",
      "A value is trying to be set on a copy of a slice from a DataFrame\n",
      "\n",
      "See the caveats in the documentation: https://pandas.pydata.org/pandas-docs/stable/user_guide/indexing.html#returning-a-view-versus-a-copy\n",
      "  df_doesnt_have_lux.dropna(subset='price_value', inplace=True)\n"
     ]
    }
   ],
   "source": [
    "# بررسی تاثیر بودن یا نبودن ویژگی های لاکچری \n",
    "df_have_lux = df[df[luxury_features].any(axis=1) == True]\n",
    "df_have_lux.dropna(subset='price_value', inplace=True)\n",
    "df_doesnt_have_lux = df[~df[luxury_features].any(axis=1)]\n",
    "df_doesnt_have_lux.dropna(subset='price_value', inplace=True)"
   ]
  },
  {
   "cell_type": "code",
   "execution_count": 11,
   "id": "c7d6a66f-1ded-40da-8e16-936eb353f4de",
   "metadata": {},
   "outputs": [
    {
     "name": "stdout",
     "output_type": "stream",
     "text": [
      "=== Hypotheses ===\n",
      "H0: Mean(Group1) = Mean(Group2)\n",
      "H1: Mean(Group1) != Mean(Group2) (alternative='two-sided')\n",
      "\n",
      "Sample sizes: Group1=6291, Group2=562055\n",
      "\n",
      "Large sample sizes → use t-test via CLT, skip Shapiro-Wilk\n",
      "\n",
      "=== Welch's t-test Result ===\n",
      "t-statistic: -1.5539, p-value: 0.1203\n",
      "Decision: Do not reject H0\n",
      "\n",
      "==================================================\n",
      "\n"
     ]
    }
   ],
   "source": [
    "col = 'price_value'\n",
    "i.compare_two_groups(df_have_lux[col], df_doesnt_have_lux[col])"
   ]
  },
  {
   "cell_type": "code",
   "execution_count": null,
   "id": "acca0bfd-6ed0-4785-b332-16d477f2cb12",
   "metadata": {},
   "outputs": [],
   "source": [
    "# بررسی تاثیر بودن یا نبودن ویژگی های غیر لاکچری\n",
    "df_have_non_lux = df[df[non_luxury_features].any(axis=1) == True]\n",
    "df_have_non_lux.dropna(subset='price_value', inplace=True)\n",
    "df_doesnt_have_non_lux = df[~df[non_luxury_features].any(axis=1)]\n",
    "df_doesnt_have_non_lux.dropna(subset='price_value', inplace=True)"
   ]
  },
  {
   "cell_type": "code",
   "execution_count": null,
   "id": "63afc10b-3b53-4fd7-b6a8-9ee70c446bb7",
   "metadata": {},
   "outputs": [],
   "source": [
    "col = 'price_value'\n",
    "i.compare_two_groups(df_have_non_lux[col], df_doesnt_have_non_lux[col])"
   ]
  },
  {
   "cell_type": "code",
   "execution_count": 5,
   "id": "1d712427-0969-4198-a961-5955e48aa0a4",
   "metadata": {},
   "outputs": [
    {
     "name": "stdout",
     "output_type": "stream",
     "text": [
      "<class 'pandas.core.series.Series'>\n",
      "Index: 12899 entries, 0 to 999860\n",
      "Series name: price_value\n",
      "Non-Null Count  Dtype  \n",
      "--------------  -----  \n",
      "1 non-null      float64\n",
      "dtypes: float64(1)\n",
      "memory usage: 201.5 KB\n"
     ]
    }
   ],
   "source": [
    "df[df['cat3_slug'] == 'villa']['price_value'].info()"
   ]
  },
  {
   "cell_type": "code",
   "execution_count": null,
   "id": "0341149a-0471-4f4b-9631-91cbd22511f4",
   "metadata": {},
   "outputs": [],
   "source": [
    "df_rent = df[df['cat3_slug'].isin(['villa', 'house-villa-rent'])]\n",
    "df_rent['rent_value'] = df_rent['credit_value'] + df_rent['rent_value'] * (100/3)"
   ]
  }
 ],
 "metadata": {
  "kernelspec": {
   "display_name": "Python 3 (ipykernel)",
   "language": "python",
   "name": "python3"
  },
  "language_info": {
   "codemirror_mode": {
    "name": "ipython",
    "version": 3
   },
   "file_extension": ".py",
   "mimetype": "text/x-python",
   "name": "python",
   "nbconvert_exporter": "python",
   "pygments_lexer": "ipython3",
   "version": "3.13.3"
  }
 },
 "nbformat": 4,
 "nbformat_minor": 5
}
